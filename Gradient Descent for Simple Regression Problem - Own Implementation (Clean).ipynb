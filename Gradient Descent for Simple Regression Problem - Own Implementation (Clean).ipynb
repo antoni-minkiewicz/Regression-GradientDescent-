{
 "cells": [
  {
   "cell_type": "code",
   "execution_count": 1,
   "metadata": {},
   "outputs": [],
   "source": [
    "import pandas as pd\n",
    "import numpy as np\n",
    "import matplotlib.pyplot as plt\n",
    "path = '/home/antoni/PycharmProjects/JupyterProjects/Coursera: ML : Regression/KCData/kc_house_train_data.csv'\n",
    "path_test = '/home/antoni/PycharmProjects/JupyterProjects/Coursera: ML : Regression/KCData/kc_house_test_data.csv'\n",
    "df = pd.read_csv(path)\n",
    "df_test = pd.read_csv(path_test)"
   ]
  },
  {
   "cell_type": "code",
   "execution_count": 2,
   "metadata": {},
   "outputs": [],
   "source": [
    "def get_numpy_data(df, features, output):\n",
    "    inputs = df[features]\n",
    "    features_matrix = inputs.values\n",
    "    a = np.ones((len(df.index),1))\n",
    "    features_matrix = np.concatenate([np.ones((len(df.index),1)) ,features_matrix], axis=1)\n",
    "    output_array = output.values\n",
    "    return(features_matrix, output_array)"
   ]
  },
  {
   "cell_type": "code",
   "execution_count": 3,
   "metadata": {},
   "outputs": [],
   "source": [
    "def predict_outcome(feature_matrix, weights):\n",
    "    predictions = np.dot(feature_matrix, weights)\n",
    "    return (predictions)"
   ]
  },
  {
   "cell_type": "code",
   "execution_count": 4,
   "metadata": {},
   "outputs": [],
   "source": [
    "def feature_derivative(errors, feature):\n",
    "    derivative = 2* np.dot(feature, error)\n",
    "    return(derivative)"
   ]
  },
  {
   "cell_type": "code",
   "execution_count": 6,
   "metadata": {},
   "outputs": [],
   "source": [
    "def regression_gradient_descent(feature_matrix, output, initial_weights, step_size, tolerance):\n",
    "    converge = False\n",
    "    weights = initial_weights\n",
    "    while converge == False:\n",
    "        predicted = np.dot(feature_matrix, list(weights))\n",
    "        error = output - predicted\n",
    "        gradient = np.ones(((feature_matrix.shape[1]),1))\n",
    "        for i in range(gradient.shape[0]):\n",
    "            partial = 2 * np.dot(feature_matrix.T[i], error)\n",
    "            gradient[i] = partial\n",
    "        gradient_magnitude = np.sqrt(gradient ** 2)\n",
    "        if (gradient_magnitude < tolerance).all():\n",
    "            converge = True\n",
    "            return weights\n",
    "        elif (np.isinf(weights)).any():\n",
    "            converge = True\n",
    "            return weights\n",
    "        else:\n",
    "            weights += (step_size * gradient.T)[0]"
   ]
  },
  {
   "cell_type": "code",
   "execution_count": 18,
   "metadata": {},
   "outputs": [],
   "source": [
    "def get_RSS(real_y, pred_y):\n",
    "    s = 0\n",
    "    for i in range(len(real_y)):\n",
    "        s += (real_y[i] - pred_y[i]) ** 2\n",
    "    a = s/real_y.shape[0]\n",
    "    return a"
   ]
  },
  {
   "cell_type": "markdown",
   "metadata": {},
   "source": [
    "### Test 1\n",
    "Here we are using only one feature sqft_lving, to try to predict the price, below are all the other parameters. "
   ]
  },
  {
   "cell_type": "code",
   "execution_count": 35,
   "metadata": {},
   "outputs": [],
   "source": [
    "X = df.drop(columns = 'price')\n",
    "y = df.price\n",
    "simple_features = ['sqft_living']\n",
    "output_col= ['price']\n",
    "initial_weights = np.array([-47000., 1.])\n",
    "step_size = 7e-12\n",
    "tolerance = 2.5e7\n",
    "my_feature_matrix = get_numpy_data(X, ['sqft_living'], y)[0]\n",
    "my_output = get_numpy_data(X, ['sqft_living'], y)[1]"
   ]
  },
  {
   "cell_type": "markdown",
   "metadata": {},
   "source": [
    "#### Model Training"
   ]
  },
  {
   "cell_type": "code",
   "execution_count": 36,
   "metadata": {},
   "outputs": [
    {
     "data": {
      "text/plain": [
       "array([-46999.88716085,    281.91224733])"
      ]
     },
     "execution_count": 36,
     "metadata": {},
     "output_type": "execute_result"
    }
   ],
   "source": [
    "regression_gradient_descent(my_feature_matrix, my_output, initial_weights, step_size, tolerance)"
   ]
  },
  {
   "cell_type": "markdown",
   "metadata": {},
   "source": [
    "#### Checking model against test data"
   ]
  },
  {
   "cell_type": "code",
   "execution_count": 37,
   "metadata": {},
   "outputs": [],
   "source": [
    "X = df_test.drop(columns='price')\n",
    "y = df_test.price\n",
    "t_feature_matrix = get_numpy_data(X, ['sqft_living'], y)[0]\n",
    "real_output = get_numpy_data(X, ['sqft_living'], y)[1]\n",
    "pred = predict_outcome(t_feature_matrix, [-46999.88716085,    281.91224733])"
   ]
  },
  {
   "cell_type": "markdown",
   "metadata": {},
   "source": [
    "The predicted value of the first house:"
   ]
  },
  {
   "cell_type": "code",
   "execution_count": 38,
   "metadata": {},
   "outputs": [
    {
     "data": {
      "text/plain": [
       "356134.62652105006"
      ]
     },
     "execution_count": 38,
     "metadata": {},
     "output_type": "execute_result"
    }
   ],
   "source": [
    "pred[0]"
   ]
  },
  {
   "cell_type": "markdown",
   "metadata": {},
   "source": [
    "The RSS for all of our predictions."
   ]
  },
  {
   "cell_type": "code",
   "execution_count": 39,
   "metadata": {},
   "outputs": [
    {
     "data": {
      "text/plain": [
       "65121788226.11247"
      ]
     },
     "execution_count": 39,
     "metadata": {},
     "output_type": "execute_result"
    }
   ],
   "source": [
    "get_RSS(y, pred )"
   ]
  },
  {
   "cell_type": "markdown",
   "metadata": {},
   "source": [
    "### Test 2\n",
    "Here we are using only one feature  ‘sqft_living’, ‘sqft_living_15’, to try to predict the price, below are all the other parameters. "
   ]
  },
  {
   "cell_type": "code",
   "execution_count": 22,
   "metadata": {},
   "outputs": [],
   "source": [
    "X = df.drop(columns = 'price')\n",
    "y = df.price\n",
    "model_features = ['sqft_living', 'sqft_living15']\n",
    "output = ['price']\n",
    "initial_weights = [-100000, 1, 1] #(intercept, sqft_living, and sqft_living_15 respectively)\n",
    "step_size = 4e-12\n",
    "tolerance = 1e9\n",
    "my_feature_matrix = get_numpy_data(X, model_features, y)[0]\n",
    "my_output = get_numpy_data(X, model_features, y)[1]"
   ]
  },
  {
   "cell_type": "markdown",
   "metadata": {},
   "source": [
    "#### Model Training"
   ]
  },
  {
   "cell_type": "code",
   "execution_count": 23,
   "metadata": {},
   "outputs": [
    {
     "data": {
      "text/plain": [
       "array([-9.99999688e+04,  2.45031857e+02,  6.53237722e+01])"
      ]
     },
     "execution_count": 23,
     "metadata": {},
     "output_type": "execute_result"
    }
   ],
   "source": [
    "regression_gradient_descent(my_feature_matrix, my_output, initial_weights, step_size, tolerance)"
   ]
  },
  {
   "cell_type": "markdown",
   "metadata": {},
   "source": [
    "#### Checking model against test data"
   ]
  },
  {
   "cell_type": "code",
   "execution_count": 26,
   "metadata": {},
   "outputs": [],
   "source": [
    "X = df_test.drop(columns='price')\n",
    "y = df_test.price\n",
    "t_feature_matrix = get_numpy_data(X, model_features, y)[0]\n",
    "real_output = get_numpy_data(X, model_features, y)[1]\n",
    "pred = predict_outcome(t_feature_matrix, [-9.99999688e+04,  2.45031857e+02,  6.53237722e+01])"
   ]
  },
  {
   "cell_type": "code",
   "execution_count": 30,
   "metadata": {},
   "outputs": [
    {
     "data": {
      "text/plain": [
       "366671.901226"
      ]
     },
     "execution_count": 30,
     "metadata": {},
     "output_type": "execute_result"
    }
   ],
   "source": [
    "pred[0]"
   ]
  },
  {
   "cell_type": "code",
   "execution_count": 27,
   "metadata": {},
   "outputs": [
    {
     "data": {
      "text/plain": [
       "63906712486.330696"
      ]
     },
     "execution_count": 27,
     "metadata": {},
     "output_type": "execute_result"
    }
   ],
   "source": [
    "get_RSS(y, pred )"
   ]
  },
  {
   "cell_type": "markdown",
   "metadata": {},
   "source": [
    "----- ----"
   ]
  },
  {
   "cell_type": "code",
   "execution_count": 33,
   "metadata": {},
   "outputs": [
    {
     "data": {
      "text/plain": [
       "-56671.90122599999"
      ]
     },
     "execution_count": 33,
     "metadata": {},
     "output_type": "execute_result"
    }
   ],
   "source": [
    "y[0] - 366671.901226"
   ]
  },
  {
   "cell_type": "code",
   "execution_count": 34,
   "metadata": {},
   "outputs": [
    {
     "data": {
      "text/plain": [
       "-46253.53875678999"
      ]
     },
     "execution_count": 34,
     "metadata": {},
     "output_type": "execute_result"
    }
   ],
   "source": [
    "y[0] - 356253.53875679"
   ]
  },
  {
   "cell_type": "code",
   "execution_count": null,
   "metadata": {},
   "outputs": [],
   "source": []
  },
  {
   "cell_type": "markdown",
   "metadata": {},
   "source": [
    "### Verification"
   ]
  },
  {
   "cell_type": "code",
   "execution_count": 13,
   "metadata": {},
   "outputs": [],
   "source": [
    "from sklearn.linear_model import LinearRegression"
   ]
  },
  {
   "cell_type": "code",
   "execution_count": 14,
   "metadata": {},
   "outputs": [],
   "source": [
    "def get_verification_lr(feature_matrix, output):\n",
    "    lr = LinearRegression()\n",
    "    X = feature_matrix[:,1:]\n",
    "    lr.fit(X, output)\n",
    "    return(lr.intercept_ , lr.coef_)"
   ]
  },
  {
   "cell_type": "code",
   "execution_count": 24,
   "metadata": {},
   "outputs": [
    {
     "data": {
      "text/plain": [
       "(-100262.17515853385, array([245.18871442,  65.27158522]))"
      ]
     },
     "execution_count": 24,
     "metadata": {},
     "output_type": "execute_result"
    }
   ],
   "source": [
    "get_verification_lr(my_feature_matrix, my_output)"
   ]
  },
  {
   "cell_type": "code",
   "execution_count": 16,
   "metadata": {},
   "outputs": [],
   "source": [
    "from sklearn.metrics import mean_squared_error"
   ]
  },
  {
   "cell_type": "code",
   "execution_count": 28,
   "metadata": {},
   "outputs": [
    {
     "data": {
      "text/plain": [
       "63906712486.33071"
      ]
     },
     "execution_count": 28,
     "metadata": {},
     "output_type": "execute_result"
    }
   ],
   "source": [
    "mean_squared_error(y, pred)"
   ]
  }
 ],
 "metadata": {
  "kernelspec": {
   "display_name": "Python 3",
   "language": "python",
   "name": "python3"
  },
  "language_info": {
   "codemirror_mode": {
    "name": "ipython",
    "version": 3
   },
   "file_extension": ".py",
   "mimetype": "text/x-python",
   "name": "python",
   "nbconvert_exporter": "python",
   "pygments_lexer": "ipython3",
   "version": "3.6.5"
  }
 },
 "nbformat": 4,
 "nbformat_minor": 2
}
